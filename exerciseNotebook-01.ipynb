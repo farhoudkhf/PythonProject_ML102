{
 "cells": [
  {
   "cell_type": "code",
   "execution_count": null,
   "metadata": {},
   "outputs": [
    {
     "data": {
      "text/plain": [
       "8\n"
      ]
     },
     "metadata": {},
     "output_type": "display_data"
    }
   ],
   "source": [
    "print(2+6)"
   ]
  },
  {
   "cell_type": "markdown",
   "metadata": {},
   "source": [
    "def xPower(x, y):\n",
    "    return x ** y\n",
    "\n",
    "x = 2\n",
    "y = 8\n",
    "print(f\"thi is xPower: {xAdd(x, y)} endPrint.\")\n"
   ]
  },
  {
   "cell_type": "code",
   "execution_count": null,
   "metadata": {},
   "outputs": [
    {
     "data": {
      "text/plain": [
       "thi is xPower: 128 endPrint.\n"
      ]
     },
     "metadata": {},
     "output_type": "display_data"
    }
   ],
   "source": [
    "def xPower(x, y):\n",
    "    return x ** y\n",
    "\n",
    "x = 2\n",
    "y = 7\n",
    "print(f\"thi is xPower: {xPower(x, y)} endPrint.\")"
   ]
  }
 ],
 "metadata": {
  "language_info": {
   "name": "python"
  }
 },
 "nbformat": 4,
 "nbformat_minor": 2
}
